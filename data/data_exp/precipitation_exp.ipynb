{
 "cells": [
  {
   "cell_type": "code",
   "execution_count": 1,
   "id": "529f8ff9-0f43-4c7f-9c74-189405083ee7",
   "metadata": {},
   "outputs": [],
   "source": [
    "import netCDF4 as nc\n",
    "import numpy as np\n",
    "import matplotlib.pyplot as plt\n",
    "import cartopy.crs as ccrs\n",
    "import cartopy.feature as cfeature\n",
    "import pandas as pd"
   ]
  },
  {
   "cell_type": "code",
   "execution_count": null,
   "id": "95e6226b-7ac5-47c5-9dd3-ea07b00205b7",
   "metadata": {},
   "outputs": [],
   "source": [
    "file_path = '../raw/precipitation/pr_2012.nc'\n",
    "dataset = nc.Dataset(file_path)\n",
    "lon = dataset.variables['lon'][:]\n",
    "lat = dataset.variables['lat'][:]\n",
    "days = dataset.variables['day'][:]\n",
    "\n",
    "day_index = 0\n",
    "precipitation_data_day = dataset.variables['precipitation'][day_index, :, :]  # (lat, lon)\n",
    "\n",
    "fig = plt.figure(figsize=(12, 8))\n",
    "ax = plt.axes(projection=ccrs.PlateCarree())\n",
    "\n",
    "ax.set_extent([min(lon), max(lon), min(lat), max(lat)], crs=ccrs.PlateCarree())\n",
    "\n",
    "ax.add_feature(cfeature.LAND)\n",
    "ax.add_feature(cfeature.OCEAN)\n",
    "ax.add_feature(cfeature.BORDERS, linestyle=':')\n",
    "ax.add_feature(cfeature.LAKES, alpha=0.5)\n",
    "\n",
    "mesh = ax.pcolormesh(lon, lat, precipitation_data_day, cmap='viridis', shading='auto', transform=ccrs.PlateCarree())\n",
    "plt.colorbar(mesh, ax=ax, label='Wind Direction (degrees)')\n",
    "\n",
    "plt.title(f'Precipitation on Day {int(days[day_index])}')\n",
    "plt.xlabel('Longitude')\n",
    "plt.ylabel('Latitude')\n",
    "\n",
    "plt.show()\n",
    "\n",
    "dataset.close()"
   ]
  }
 ],
 "metadata": {
  "kernelspec": {
   "display_name": "Python 3 (ipykernel)",
   "language": "python",
   "name": "python3"
  },
  "language_info": {
   "codemirror_mode": {
    "name": "ipython",
    "version": 3
   },
   "file_extension": ".py",
   "mimetype": "text/x-python",
   "name": "python",
   "nbconvert_exporter": "python",
   "pygments_lexer": "ipython3",
   "version": "3.9.6"
  }
 },
 "nbformat": 4,
 "nbformat_minor": 5
}
